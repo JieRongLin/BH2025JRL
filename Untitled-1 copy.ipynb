{
 "cells": [
  {
   "cell_type": "code",
   "execution_count": 1,
   "id": "78c97a8d",
   "metadata": {},
   "outputs": [],
   "source": [
    "import nilearn\n",
    "from nilearn import datasets, image, plotting\n",
    "import numpy as np\n",
    "import nibabel as nib\n",
    "from nilearn.input_data import NiftiLabelsMasker\n",
    "from nilearn.image import new_img_like\n",
    "#import numpy as np\n",
    "from nilearn import image\n",
    "#from nilearn.input_data import NiftiLabelsMasker\n",
    "import matplotlib.pyplot as plt\n",
    "import pandas as pd \n",
    "import nilearn\n",
    "from nilearn import datasets, image, plotting\n",
    "import numpy as np\n",
    "import nibabel as nib\n",
    "from nilearn.input_data import NiftiSpheresMasker # **確保這裡有 NiftiSpheresMasker**\n",
    "from nilearn.image import new_img_like, resample_to_img\n",
    "from nilearn.connectome import ConnectivityMeasure\n",
    "import matplotlib.pyplot as plt\n",
    "import pandas as pd # 用於處理 DataFrame"
   ]
  },
  {
   "cell_type": "code",
   "execution_count": 2,
   "id": "3b081f47",
   "metadata": {},
   "outputs": [
    {
     "data": {
      "text/plain": [
       "{'rois':         x      y      z\n",
       " 73 -49.77 -34.36  25.74\n",
       " 75 -38.43 -33.34  16.98\n",
       " 79  65.43 -33.20  19.97\n",
       " 76  31.75 -26.33  12.91\n",
       " 74 -49.14 -26.30   5.18\n",
       " ..    ...    ...    ...\n",
       " 8   64.60 -24.41 -18.57\n",
       " 9  -50.06  -7.09 -39.24\n",
       " 4   48.52  -2.85 -38.49\n",
       " 10  33.55  38.46 -12.03\n",
       " 2    8.13  41.12 -24.31\n",
       " \n",
       " [300 rows x 3 columns],\n",
       " 'radius': array([5, 5, 5, 5, 5, 5, 5, 5, 5, 5, 5, 5, 4, 4, 4, 5, 4, 4, 4, 4, 5, 5,\n",
       "        5, 5, 5, 5, 5, 5, 5, 5, 5, 5, 5, 5, 5, 5, 5, 5, 4, 4, 4, 4, 5, 5,\n",
       "        5, 5, 5, 5, 5, 5, 5, 5, 5, 4, 5, 4, 5, 5, 5, 5, 5, 4, 5, 4, 5, 5,\n",
       "        5, 5, 5, 5, 4, 4, 5, 5, 5, 5, 5, 4, 4, 5, 5, 5, 5, 5, 5, 5, 5, 5,\n",
       "        5, 5, 5, 5, 5, 5, 5, 5, 5, 5, 5, 5, 5, 5, 5, 5, 5, 5, 5, 5, 5, 5,\n",
       "        5, 5, 5, 5, 5, 5, 5, 5, 5, 4, 4, 4, 4, 4, 5, 4, 5, 5, 5, 5, 5, 5,\n",
       "        5, 4, 5, 4, 4, 5, 5, 5, 5, 5, 5, 5, 5, 5, 5, 5, 5, 5, 5, 5, 5, 5,\n",
       "        5, 5, 4, 4, 5, 5, 5, 5, 5, 5, 4, 4, 5, 4, 4, 5, 5, 5, 5, 5, 5, 5,\n",
       "        5, 5, 5, 5, 5, 4, 4, 4, 4, 5, 4, 5, 5, 4, 4, 5, 5, 5, 5, 5, 5, 5,\n",
       "        5, 5, 5, 5, 5, 5, 4, 5, 4, 5, 5, 5, 4, 4, 5, 5, 5, 5, 5, 5, 5, 5,\n",
       "        5, 4, 4, 5, 5, 4, 4, 4, 4, 5, 4, 4, 4, 4, 5, 5, 5, 5, 5, 5, 5, 5,\n",
       "        5, 5, 5, 5, 5, 5, 5, 5, 5, 5, 5, 5, 5, 5, 5, 5, 5, 5, 5, 5, 5, 5,\n",
       "        5, 5, 5, 5, 5, 5, 5, 4, 5, 5, 5, 5, 5, 5, 5, 5, 5, 5, 5, 4, 4, 5,\n",
       "        5, 4, 5, 4, 4, 5, 5, 5, 5, 5, 5, 5, 5, 5]),\n",
       " 'networks': array(['Auditory', 'Auditory', 'Auditory', 'Auditory', 'Auditory',\n",
       "        'Auditory', 'Auditory', 'Auditory', 'Auditory', 'Auditory',\n",
       "        'Auditory', 'Auditory', 'CinguloOpercular', 'CinguloOpercular',\n",
       "        'CinguloOpercular', 'CinguloOpercular', 'CinguloOpercular',\n",
       "        'CinguloOpercular', 'CinguloOpercular', 'CinguloOpercular',\n",
       "        'CinguloOpercular', 'CinguloOpercular', 'CinguloOpercular',\n",
       "        'CinguloOpercular', 'CinguloOpercular', 'CinguloOpercular',\n",
       "        'CinguloOpercular', 'CinguloOpercular', 'CinguloOpercular',\n",
       "        'CinguloOpercular', 'CinguloOpercular', 'CinguloOpercular',\n",
       "        'CinguloOpercular', 'CinguloOpercular', 'CinguloOpercular',\n",
       "        'CinguloOpercular', 'CinguloOpercular', 'CinguloOpercular',\n",
       "        'DefaultMode', 'DefaultMode', 'DefaultMode', 'DefaultMode',\n",
       "        'DefaultMode', 'DefaultMode', 'DefaultMode', 'DefaultMode',\n",
       "        'DefaultMode', 'DefaultMode', 'DefaultMode', 'DefaultMode',\n",
       "        'DefaultMode', 'DefaultMode', 'DefaultMode', 'DefaultMode',\n",
       "        'DefaultMode', 'DefaultMode', 'DefaultMode', 'DefaultMode',\n",
       "        'DefaultMode', 'DefaultMode', 'DefaultMode', 'DefaultMode',\n",
       "        'DefaultMode', 'DefaultMode', 'DefaultMode', 'DefaultMode',\n",
       "        'DefaultMode', 'DefaultMode', 'DefaultMode', 'DefaultMode',\n",
       "        'DefaultMode', 'DefaultMode', 'DefaultMode', 'DefaultMode',\n",
       "        'DefaultMode', 'DefaultMode', 'DefaultMode', 'DefaultMode',\n",
       "        'DefaultMode', 'DefaultMode', 'DefaultMode', 'DefaultMode',\n",
       "        'DefaultMode', 'DefaultMode', 'DefaultMode', 'DefaultMode',\n",
       "        'DefaultMode', 'DefaultMode', 'DefaultMode', 'DefaultMode',\n",
       "        'DefaultMode', 'DefaultMode', 'DefaultMode', 'DefaultMode',\n",
       "        'DefaultMode', 'DefaultMode', 'DefaultMode', 'DefaultMode',\n",
       "        'DefaultMode', 'DefaultMode', 'DefaultMode', 'DefaultMode',\n",
       "        'DefaultMode', 'DefaultMode', 'DefaultMode', 'DorsalAttention',\n",
       "        'DorsalAttention', 'DorsalAttention', 'DorsalAttention',\n",
       "        'DorsalAttention', 'DorsalAttention', 'DorsalAttention',\n",
       "        'DorsalAttention', 'DorsalAttention', 'DorsalAttention',\n",
       "        'DorsalAttention', 'DorsalAttention', 'DorsalAttention',\n",
       "        'DorsalAttention', 'FrontoParietal', 'FrontoParietal',\n",
       "        'FrontoParietal', 'FrontoParietal', 'FrontoParietal',\n",
       "        'FrontoParietal', 'FrontoParietal', 'FrontoParietal',\n",
       "        'FrontoParietal', 'FrontoParietal', 'FrontoParietal',\n",
       "        'FrontoParietal', 'FrontoParietal', 'FrontoParietal',\n",
       "        'FrontoParietal', 'FrontoParietal', 'FrontoParietal',\n",
       "        'FrontoParietal', 'FrontoParietal', 'FrontoParietal',\n",
       "        'FrontoParietal', 'FrontoParietal', 'FrontoParietal',\n",
       "        'FrontoParietal', 'FrontoParietal', 'FrontoParietal',\n",
       "        'FrontoParietal', 'FrontoParietal', 'FrontoParietal',\n",
       "        'FrontoParietal', 'FrontoParietal', 'FrontoParietal',\n",
       "        'FrontoParietal', 'FrontoParietal', 'FrontoParietal',\n",
       "        'FrontoParietal', 'MedialTemporalLobe', 'MedialTemporalLobe',\n",
       "        'MedialTemporalLobe', 'MedialTemporalLobe', 'ParietoMedial',\n",
       "        'ParietoMedial', 'ParietoMedial', 'ParietoMedial', 'ParietoMedial',\n",
       "        'Reward', 'Reward', 'Reward', 'Reward', 'Reward', 'Reward',\n",
       "        'Reward', 'Reward', 'Salience', 'Salience', 'Salience', 'Salience',\n",
       "        'Salience', 'Salience', 'Salience', 'Salience', 'Salience',\n",
       "        'SomatomotorDorsal', 'SomatomotorDorsal', 'SomatomotorDorsal',\n",
       "        'SomatomotorDorsal', 'SomatomotorDorsal', 'SomatomotorDorsal',\n",
       "        'SomatomotorDorsal', 'SomatomotorDorsal', 'SomatomotorDorsal',\n",
       "        'SomatomotorDorsal', 'SomatomotorDorsal', 'SomatomotorDorsal',\n",
       "        'SomatomotorDorsal', 'SomatomotorDorsal', 'SomatomotorDorsal',\n",
       "        'SomatomotorDorsal', 'SomatomotorDorsal', 'SomatomotorDorsal',\n",
       "        'SomatomotorDorsal', 'SomatomotorDorsal', 'SomatomotorDorsal',\n",
       "        'SomatomotorDorsal', 'SomatomotorDorsal', 'SomatomotorDorsal',\n",
       "        'SomatomotorDorsal', 'SomatomotorDorsal', 'SomatomotorDorsal',\n",
       "        'SomatomotorDorsal', 'SomatomotorDorsal', 'SomatomotorDorsal',\n",
       "        'SomatomotorDorsal', 'SomatomotorDorsal', 'SomatomotorDorsal',\n",
       "        'SomatomotorDorsal', 'SomatomotorDorsal', 'SomatomotorDorsal',\n",
       "        'SomatomotorDorsal', 'SomatomotorDorsal', 'SomatomotorDorsal',\n",
       "        'SomatomotorDorsal', 'SomatomotorDorsal', 'SomatomotorDorsal',\n",
       "        'SomatomotorDorsal', 'SomatomotorDorsal', 'SomatomotorDorsal',\n",
       "        'SomatomotorDorsal', 'SomatomotorDorsal', 'SomatomotorDorsal',\n",
       "        'SomatomotorDorsal', 'SomatomotorDorsal', 'SomatomotorDorsal',\n",
       "        'SomatomotorDorsal', 'SomatomotorDorsal', 'SomatomotorLateral',\n",
       "        'SomatomotorLateral', 'SomatomotorLateral', 'SomatomotorLateral',\n",
       "        'SomatomotorLateral', 'VentralAttention', 'VentralAttention',\n",
       "        'VentralAttention', 'VentralAttention', 'VentralAttention',\n",
       "        'VentralAttention', 'VentralAttention', 'VentralAttention',\n",
       "        'VentralAttention', 'Visual', 'Visual', 'Visual', 'Visual',\n",
       "        'Visual', 'Visual', 'Visual', 'Visual', 'Visual', 'Visual',\n",
       "        'Visual', 'Visual', 'Visual', 'Visual', 'Visual', 'Visual',\n",
       "        'Visual', 'Visual', 'Visual', 'Visual', 'Visual', 'Visual',\n",
       "        'Visual', 'Visual', 'Visual', 'Visual', 'Visual', 'Visual',\n",
       "        'Visual', 'Visual', 'Visual', 'Visual', 'Visual', 'Visual',\n",
       "        'Visual', 'Visual', 'Visual', 'unassigned', 'unassigned',\n",
       "        'unassigned', 'unassigned', 'unassigned', 'unassigned',\n",
       "        'unassigned', 'unassigned', 'unassigned', 'unassigned',\n",
       "        'unassigned', 'unassigned', 'unassigned', 'unassigned',\n",
       "        'unassigned'], dtype=object),\n",
       " 'regions': array(['cortexL', 'cortexL', 'cortexR', 'cortexR', 'cortexL', 'cortexL',\n",
       "        'cortexR', 'cortexL', 'cortexR', 'cortexR', 'cortexL', 'cortexR',\n",
       "        'cerebellum', 'cerebellum', 'cerebellum', 'cortexL', 'thalamus',\n",
       "        'thalamus', 'thalamus', 'thalamus', 'cortexL', 'cortexL',\n",
       "        'cortexR', 'cortexR', 'cortexL', 'cortexR', 'cortexL', 'cortexL',\n",
       "        'cortexR', 'cortexL', 'cortexR', 'cortexR', 'cortexL', 'cortexR',\n",
       "        'cortexR', 'cortexR', 'cortexL', 'cortexR', 'cerebellum',\n",
       "        'cerebellum', 'cerebellum', 'cerebellum', 'cortexL', 'cortexL',\n",
       "        'cortexR', 'cortexL', 'cortexR', 'cortexL', 'cortexR', 'cortexR',\n",
       "        'cortexL', 'cortexL', 'cortexR', 'cerebellum', 'cortexR',\n",
       "        'cerebellum', 'cortexL', 'cortexR', 'cortexL', 'cortexL',\n",
       "        'cortexL', 'hippocampus', 'cortexL', 'hippocampus', 'cortexL',\n",
       "        'cortexR', 'cortexL', 'cortexL', 'cortexL', 'cortexR', 'thalamus',\n",
       "        'thalamus', 'cortexR', 'cortexL', 'cortexR', 'cortexL', 'cortexR',\n",
       "        'basalGanglia', 'basalGanglia', 'cortexL', 'cortexL', 'cortexR',\n",
       "        'cortexL', 'cortexR', 'cortexR', 'cortexR', 'cortexL', 'cortexL',\n",
       "        'cortexR', 'cortexL', 'cortexR', 'cortexL', 'cortexL', 'cortexL',\n",
       "        'cortexR', 'cortexL', 'cortexL', 'cortexR', 'cortexR', 'cortexL',\n",
       "        'cortexR', 'cortexL', 'cortexL', 'cortexR', 'cortexR', 'cortexL',\n",
       "        'cortexR', 'cortexL', 'cortexR', 'cortexL', 'cortexR', 'cortexL',\n",
       "        'cortexR', 'cortexR', 'cortexL', 'cortexR', 'cortexL', 'cortexR',\n",
       "        'cortexL', 'cerebellum', 'cerebellum', 'cerebellum', 'cerebellum',\n",
       "        'cerebellum', 'cortexR', 'cerebellum', 'cortexL', 'cortexL',\n",
       "        'cortexR', 'cortexR', 'cortexR', 'cortexL', 'cortexR',\n",
       "        'cerebellum', 'cortexR', 'basalGanglia', 'basalGanglia', 'cortexL',\n",
       "        'cortexL', 'cortexR', 'cortexL', 'cortexL', 'cortexR', 'cortexR',\n",
       "        'cortexR', 'cortexR', 'cortexL', 'cortexL', 'cortexL', 'cortexR',\n",
       "        'cortexR', 'cortexL', 'cortexR', 'cortexR', 'cortexL', 'cortexR',\n",
       "        'hippocampus', 'hippocampus', 'cortexL', 'cortexL', 'cortexR',\n",
       "        'cortexR', 'cortexL', 'cortexR', 'amygdala', 'amygdala', 'cortexR',\n",
       "        'basalGanglia', 'basalGanglia', 'cortexL', 'cortexR', 'cortexL',\n",
       "        'cortexL', 'cortexR', 'cortexL', 'cortexR', 'cortexR', 'cortexL',\n",
       "        'cortexL', 'cortexR', 'cortexL', 'cerebellum', 'cerebellum',\n",
       "        'cerebellum', 'cerebellum', 'cortexL', 'cerebellum', 'cortexL',\n",
       "        'cortexR', 'cerebellum', 'cerebellum', 'cortexL', 'cortexR',\n",
       "        'cortexR', 'cortexL', 'cortexR', 'cortexL', 'cortexL', 'cortexL',\n",
       "        'cortexR', 'cortexR', 'cortexR', 'cortexR', 'cortexL', 'thalamus',\n",
       "        'cortexL', 'thalamus', 'cortexL', 'cortexR', 'cortexR', 'thalamus',\n",
       "        'thalamus', 'cortexL', 'cortexL', 'cortexR', 'cortexL', 'cortexR',\n",
       "        'cortexR', 'cortexR', 'cortexL', 'cortexMid', 'basalGanglia',\n",
       "        'basalGanglia', 'cortexR', 'cortexR', 'basalGanglia',\n",
       "        'basalGanglia', 'basalGanglia', 'basalGanglia', 'cortexR',\n",
       "        'basalGanglia', 'basalGanglia', 'basalGanglia', 'basalGanglia',\n",
       "        'cortexL', 'cortexL', 'cortexR', 'cortexR', 'cortexR', 'cortexL',\n",
       "        'cortexR', 'cortexR', 'cortexL', 'cortexR', 'cortexR', 'cortexL',\n",
       "        'cortexL', 'cortexR', 'cortexL', 'cortexR', 'cortexR', 'cortexL',\n",
       "        'cortexL', 'cortexL', 'cortexL', 'cortexR', 'cortexR', 'cortexR',\n",
       "        'cortexR', 'cortexR', 'cortexL', 'cortexR', 'cortexL', 'cortexR',\n",
       "        'cortexL', 'cortexL', 'cortexR', 'cortexL', 'cortexR', 'cortexR',\n",
       "        'cortexL', 'cerebellum', 'cortexL', 'cortexR', 'cortexL',\n",
       "        'cortexR', 'cortexR', 'cortexL', 'cortexR', 'cortexR', 'cortexR',\n",
       "        'cortexL', 'cortexR', 'thalamus', 'thalamus', 'cortexL', 'cortexR',\n",
       "        'cerebellum', 'cortexL', 'cerebellum', 'cerebellum', 'cortexL',\n",
       "        'cortexR', 'cortexR', 'cortexL', 'cortexR', 'cortexL', 'cortexR',\n",
       "        'cortexR', 'cortexR'], dtype=object),\n",
       " 'description': '.. _seitzman_atlas:\\n\\nSeitzman 2018 atlas\\n===================\\n\\nAccess\\n------\\nSee :func:`nilearn.datasets.fetch_coords_seitzman_2018`.\\n\\nNotes\\n-----\\n300 ROI coordinates in cortical, subcortical and cerebellar regions.\\n\\n    Here, we apply a winner-take-all partitioning method\\n    to :term:`resting-state` :term:`fMRI` data\\n    and careful consideration of anatomy to generate novel functionally-constrained ROIs\\n    in the thalamus, basal ganglia, amygdala, hippocampus, and cerebellum.\\n    We validate these ROIs in three datasets via several anatomical and functional criteria,\\n    including known anatomical divisions and functions,\\n    as well as agreement with existing literature.\\n    Further, we demonstrate that combining these ROIs with established cortical ROIs recapitulates\\n    and extends previously described functional network organization.\\n\\n    :footcite:t:`Seitzman2020`\\n\\nContent\\n-------\\n    :\"rois\": Coordinates of 300 ROIs in :term:`MNI` space\\n    :\"radius\": Radius of each ROI in mm\\n    :\"networks\": Network names\\n    :\"regions\": Region names\\n\\nReferences\\n----------\\n\\n.. footbibliography::\\n\\nFor more information see:\\nhttps://greenelab.ucsd.edu/data_software\\n\\nROI coordinates downloaded from:\\nhttps://wustl.app.box.com/s/twpyb1pflj6vrlxgh3rohyqanxbdpelw\\n\\nLicense\\n-------\\nunknown\\n'}"
      ]
     },
     "execution_count": 2,
     "metadata": {},
     "output_type": "execute_result"
    }
   ],
   "source": [
    "nilearn.datasets.fetch_coords_seitzman_2018(ordered_regions=True)"
   ]
  },
  {
   "cell_type": "code",
   "execution_count": 8,
   "id": "893fa035",
   "metadata": {},
   "outputs": [],
   "source": [
    "coords_seitzman = datasets.fetch_coords_seitzman_2018()\n",
    "seitzman_coords_df = pd.DataFrame(coords_seitzman['rois'], columns=['x', 'y', 'z']) # <-- 修正這裡：'rois'\n",
    "seitzman_coords_df['label'] = coords_seitzman['regions'] # <-- 修正這裡：'regions'\n",
    "seitzman_coords_df['network'] = coords_seitzman['networks']\n"
   ]
  },
  {
   "cell_type": "code",
   "execution_count": 9,
   "id": "e6e905d2",
   "metadata": {},
   "outputs": [
    {
     "name": "stdout",
     "output_type": "stream",
     "text": [
      "(96, 114, 96, 2100)\n"
     ]
    }
   ],
   "source": [
    "from nilearn import image\n",
    "file_path = \"/Volumes/SSD/ds003721-download/Processed/Preprocessing_film/S11/Results/errts_S11.nii\"\n",
    "\n",
    "bold_img = image.load_img(file_path)\n",
    "try:\n",
    "    t_r = bold_img.header['pixdim'][4]\n",
    "    if t_r == 0: # 有些文件可能TR為0，需要手動指定\n",
    "        print(\"警告: BOLD 影像頭信息中的 TR 為 0，請手動指定 t_r。\")\n",
    "        t_r = 1.19 # 請根據您的數據實際TR修改\n",
    "except IndexError: # 如果沒有 'pixdim' 這個鍵\n",
    "    print(\"警告: 無法從 BOLD 影像頭信息中獲取 TR，請手動指定 t_r。\")\n",
    "    t_r = 2.19 # 請根據您的數據實際TR修改\n",
    "\n",
    "bold_img = image.load_img(file_path)\n",
    "print(bold_img.shape)\n"
   ]
  },
  {
   "cell_type": "code",
   "execution_count": 10,
   "id": "19e06a6d",
   "metadata": {},
   "outputs": [
    {
     "name": "stdout",
     "output_type": "stream",
     "text": [
      "dict_keys(['rois', 'radius', 'networks', 'regions', 'description'])\n",
      "\n",
      "--- Seitzman 座標數據概覽 ---\n",
      "     network    label      x      y      z\n",
      "73  Auditory  cortexL -49.77 -34.36  25.74\n",
      "75  Auditory  cortexL -38.43 -33.34  16.98\n",
      "79  Auditory  cortexR  65.43 -33.20  19.97\n",
      "76  Auditory  cortexR  31.75 -26.33  12.91\n",
      "74  Auditory  cortexL -49.14 -26.30   5.18\n"
     ]
    }
   ],
   "source": [
    "print(coords_seitzman.keys())\n",
    "print(\"\\n--- Seitzman 座標數據概覽 ---\")\n",
    "print(seitzman_coords_df[['network', 'label', 'x', 'y', 'z']].head()) # 查看前幾行\n"
   ]
  },
  {
   "cell_type": "code",
   "execution_count": 11,
   "id": "1324d72b",
   "metadata": {},
   "outputs": [
    {
     "name": "stdout",
     "output_type": "stream",
     "text": [
      "\n",
      "--- 檢查 Seitzman 座標點的唯一標籤 ---\n",
      "Seitzman 座標點共有 8 個唯一標籤。\n",
      "前20個唯一標籤範例: ['cortexL' 'cortexR' 'cerebellum' 'thalamus' 'hippocampus' 'basalGanglia'\n",
      " 'amygdala' 'cortexMid']\n"
     ]
    }
   ],
   "source": [
    "print(\"\\n--- 檢查 Seitzman 座標點的唯一標籤 ---\")\n",
    "unique_labels = seitzman_coords_df['label'].unique()\n",
    "print(f\"Seitzman 座標點共有 {len(unique_labels)} 個唯一標籤。\")\n",
    "print(\"前20個唯一標籤範例:\", unique_labels[:20])\n"
   ]
  },
  {
   "cell_type": "code",
   "execution_count": 12,
   "id": "f79383dc",
   "metadata": {},
   "outputs": [
    {
     "name": "stdout",
     "output_type": "stream",
     "text": [
      "            label      x      y      z\n",
      "248  basalGanglia -13.28  17.24   7.14\n",
      "247  basalGanglia  11.87  17.51   6.57\n",
      "250  basalGanglia -15.19  -1.50  18.84\n",
      "249  basalGanglia  14.15  -1.19  18.18\n",
      "246  basalGanglia -12.49  17.05  -4.49\n",
      "245  basalGanglia  12.66  17.32  -5.06\n",
      "254  basalGanglia -28.31 -10.45  -3.60\n",
      "252  basalGanglia -28.02 -10.23   9.07\n",
      "251  basalGanglia  28.56  -7.53   7.66\n",
      "253  basalGanglia  28.28  -6.70  -5.06\n",
      "260  basalGanglia -18.84  -5.08  -3.06\n",
      "259  basalGanglia  18.88  -4.68  -3.91\n",
      "256  basalGanglia -28.26  -0.97  -3.09\n",
      "255  basalGanglia  25.26   1.75  -1.26\n",
      "257  basalGanglia  25.46   5.05   7.00\n",
      "258  basalGanglia -24.83   7.67   7.95\n"
     ]
    }
   ],
   "source": [
    "basal_ganglia_keywords_seitzman = ['basalGanglia'] # 擴展一些可能的關鍵字\n",
    "\n",
    "basal_ganglia_coords_df = seitzman_coords_df[\n",
    "    seitzman_coords_df['label'].apply(lambda x: any(k.lower() in x.lower() for k in basal_ganglia_keywords_seitzman))\n",
    "]\n",
    "print(basal_ganglia_coords_df[['label', 'x', 'y', 'z']])"
   ]
  },
  {
   "cell_type": "code",
   "execution_count": 13,
   "id": "10683563",
   "metadata": {},
   "outputs": [],
   "source": [
    "basal_ganglia_coords = basal_ganglia_coords_df[['x', 'y', 'z']].values\n",
    "basal_ganglia_node_labels = basal_ganglia_coords_df['label'].tolist()\n"
   ]
  },
  {
   "cell_type": "code",
   "execution_count": 14,
   "id": "6bb75f73",
   "metadata": {},
   "outputs": [
    {
     "name": "stdout",
     "output_type": "stream",
     "text": [
      "\n",
      "縮減後選取了前 5 個 Basal Ganglia ROI:\n",
      "            label      x      y      z\n",
      "248  basalGanglia -13.28  17.24   7.14\n",
      "247  basalGanglia  11.87  17.51   6.57\n",
      "250  basalGanglia -15.19  -1.50  18.84\n",
      "249  basalGanglia  14.15  -1.19  18.18\n",
      "246  basalGanglia -12.49  17.05  -4.49\n"
     ]
    }
   ],
   "source": [
    "num_rois_to_select = 5\n",
    "selected_basal_ganglia_df = basal_ganglia_coords_df.head(num_rois_to_select)\n",
    "print(f\"\\n縮減後選取了前 {num_rois_to_select} 個 Basal Ganglia ROI:\")\n",
    "print(selected_basal_ganglia_df[['label', 'x', 'y', 'z']])\n",
    "\n",
    "basal_ganglia_coords = selected_basal_ganglia_df[['x', 'y', 'z']].values\n",
    "basal_ganglia_node_labels = selected_basal_ganglia_df['label'].tolist()\n",
    "\n"
   ]
  },
  {
   "cell_type": "code",
   "execution_count": null,
   "id": "d07eb0ea",
   "metadata": {},
   "outputs": [
    {
     "name": "stdout",
     "output_type": "stream",
     "text": [
      "\n",
      "正在使用 NiftiSpheresMasker 提取基底核時間序列 (半徑: [5 5 5 5 5 5 5 5 5 5 5 5 4 4 4 5 4 4 4 4 5 5 5 5 5 5 5 5 5 5 5 5 5 5 5 5 5\n",
      " 5 4 4 4 4 5 5 5 5 5 5 5 5 5 5 5 4 5 4 5 5 5 5 5 4 5 4 5 5 5 5 5 5 4 4 5 5\n",
      " 5 5 5 4 4 5 5 5 5 5 5 5 5 5 5 5 5 5 5 5 5 5 5 5 5 5 5 5 5 5 5 5 5 5 5 5 5\n",
      " 5 5 5 5 5 5 5 5 4 4 4 4 4 5 4 5 5 5 5 5 5 5 4 5 4 4 5 5 5 5 5 5 5 5 5 5 5\n",
      " 5 5 5 5 5 5 5 5 4 4 5 5 5 5 5 5 4 4 5 4 4 5 5 5 5 5 5 5 5 5 5 5 5 4 4 4 4\n",
      " 5 4 5 5 4 4 5 5 5 5 5 5 5 5 5 5 5 5 5 4 5 4 5 5 5 4 4 5 5 5 5 5 5 5 5 5 4\n",
      " 4 5 5 4 4 4 4 5 4 4 4 4 5 5 5 5 5 5 5 5 5 5 5 5 5 5 5 5 5 5 5 5 5 5 5 5 5\n",
      " 5 5 5 5 5 5 5 5 5 5 5 5 4 5 5 5 5 5 5 5 5 5 5 5 4 4 5 5 4 5 4 4 5 5 5 5 5\n",
      " 5 5 5 5]mm)...\n",
      "將處理 5 個基底核 ROI。\n"
     ]
    }
   ],
   "source": [
    "basal_ganglia_coords_for_masker = selected_basal_ganglia_df[['x', 'y', 'z']].values\n",
    "basal_ganglia_node_labels_for_masker = selected_basal_ganglia_df['label'].tolist() # 同時更新標籤列表\n",
    "\n",
    "sphere_radius = coords_seitzman['radius'] if 'radius' in coords_seitzman else 6.0\n",
    "print(f\"\\n正在使用 NiftiSpheresMasker 提取基底核時間序列 (半徑: {sphere_radius}mm)...\")\n",
    "print(f\"將處理 {len(basal_ganglia_coords_for_masker)} 個基底核 ROI。\") # 添加這一行以確認數量\n",
    "\n",
    "masker_spheres = NiftiSpheresMasker(\n",
    "    seeds=basal_ganglia_coords_for_masker, # <-- **這裡就是修改的地方！**\n",
    "    radius=sphere_radius,\n",
    "    standardize=True,\n",
    "    detrend=True,\n",
    "    low_pass=0.1, high_pass=0.01, t_r=t_r,\n",
    "    n_jobs=4 # 保持 n_jobs=4 或根據需要調整，如之前討論\n",
    ")\n",
    "\n",
    "time_series_basal_ganglia = masker_spheres.fit_transform(bold_img)"
   ]
  },
  {
   "cell_type": "code",
   "execution_count": 16,
   "id": "d8403b13",
   "metadata": {},
   "outputs": [
    {
     "ename": "NameError",
     "evalue": "name 'basal_ganglia_coords_for_masker' is not defined",
     "output_type": "error",
     "traceback": [
      "\u001b[0;31m---------------------------------------------------------------------------\u001b[0m",
      "\u001b[0;31mNameError\u001b[0m                                 Traceback (most recent call last)",
      "Cell \u001b[0;32mIn[16], line 4\u001b[0m\n\u001b[1;32m      1\u001b[0m \u001b[38;5;28;01mif\u001b[39;00m \u001b[38;5;129;01mnot\u001b[39;00m selected_basal_ganglia_df\u001b[38;5;241m.\u001b[39mempty:\n\u001b[1;32m      2\u001b[0m     plt\u001b[38;5;241m.\u001b[39mfigure(figsize\u001b[38;5;241m=\u001b[39m(\u001b[38;5;241m8\u001b[39m, \u001b[38;5;241m6\u001b[39m))\n\u001b[1;32m      3\u001b[0m     plotting\u001b[38;5;241m.\u001b[39mplot_markers(\n\u001b[0;32m----> 4\u001b[0m         node_coords\u001b[38;5;241m=\u001b[39m\u001b[43mbasal_ganglia_coords_for_masker\u001b[49m, \u001b[38;5;66;03m# <-- 也要更新這裡的座標\u001b[39;00m\n\u001b[1;32m      5\u001b[0m         node_color\u001b[38;5;241m=\u001b[39m\u001b[38;5;124m'\u001b[39m\u001b[38;5;124mred\u001b[39m\u001b[38;5;124m'\u001b[39m,\n\u001b[1;32m      6\u001b[0m         node_size\u001b[38;5;241m=\u001b[39m\u001b[38;5;241m10\u001b[39m,\n\u001b[1;32m      7\u001b[0m         display_mode\u001b[38;5;241m=\u001b[39m\u001b[38;5;124m'\u001b[39m\u001b[38;5;124mortho\u001b[39m\u001b[38;5;124m'\u001b[39m,\n\u001b[1;32m      8\u001b[0m         title\u001b[38;5;241m=\u001b[39m\u001b[38;5;124mf\u001b[39m\u001b[38;5;124m'\u001b[39m\u001b[38;5;124mSelected Seitzman Basal Ganglia Coordinates (Radius: \u001b[39m\u001b[38;5;132;01m{\u001b[39;00msphere_radius\u001b[38;5;132;01m}\u001b[39;00m\u001b[38;5;124mmm)\u001b[39m\u001b[38;5;124m'\u001b[39m\n\u001b[1;32m      9\u001b[0m     )\n\u001b[1;32m     10\u001b[0m     plt\u001b[38;5;241m.\u001b[39mshow()\n",
      "\u001b[0;31mNameError\u001b[0m: name 'basal_ganglia_coords_for_masker' is not defined"
     ]
    },
    {
     "data": {
      "text/plain": [
       "<Figure size 800x600 with 0 Axes>"
      ]
     },
     "metadata": {},
     "output_type": "display_data"
    }
   ],
   "source": [
    "if not selected_basal_ganglia_df.empty:\n",
    "    plt.figure(figsize=(8, 6))\n",
    "    plotting.plot_markers(\n",
    "        node_coords=basal_ganglia_coords_for_masker, # <-- 也要更新這裡的座標\n",
    "        node_color='red',\n",
    "        node_size=10,\n",
    "        display_mode='ortho',\n",
    "        title=f'Selected Seitzman Basal Ganglia Coordinates (Radius: {sphere_radius}mm)'\n",
    "    )\n",
    "    plt.show()"
   ]
  },
  {
   "cell_type": "code",
   "execution_count": 15,
   "id": "07a24cb3",
   "metadata": {},
   "outputs": [
    {
     "name": "stdout",
     "output_type": "stream",
     "text": [
      "\n",
      "正在使用 NiftiSpheresMasker 提取基底核時間序列 (半徑: [5 5 5 5 5 5 5 5 5 5 5 5 4 4 4 5 4 4 4 4 5 5 5 5 5 5 5 5 5 5 5 5 5 5 5 5 5\n",
      " 5 4 4 4 4 5 5 5 5 5 5 5 5 5 5 5 4 5 4 5 5 5 5 5 4 5 4 5 5 5 5 5 5 4 4 5 5\n",
      " 5 5 5 4 4 5 5 5 5 5 5 5 5 5 5 5 5 5 5 5 5 5 5 5 5 5 5 5 5 5 5 5 5 5 5 5 5\n",
      " 5 5 5 5 5 5 5 5 4 4 4 4 4 5 4 5 5 5 5 5 5 5 4 5 4 4 5 5 5 5 5 5 5 5 5 5 5\n",
      " 5 5 5 5 5 5 5 5 4 4 5 5 5 5 5 5 4 4 5 4 4 5 5 5 5 5 5 5 5 5 5 5 5 4 4 4 4\n",
      " 5 4 5 5 4 4 5 5 5 5 5 5 5 5 5 5 5 5 5 4 5 4 5 5 5 4 4 5 5 5 5 5 5 5 5 5 4\n",
      " 4 5 5 4 4 4 4 5 4 4 4 4 5 5 5 5 5 5 5 5 5 5 5 5 5 5 5 5 5 5 5 5 5 5 5 5 5\n",
      " 5 5 5 5 5 5 5 5 5 5 5 5 4 5 5 5 5 5 5 5 5 5 5 5 4 4 5 5 4 5 4 4 5 5 5 5 5\n",
      " 5 5 5 5]mm)...\n"
     ]
    },
    {
     "ename": "KeyboardInterrupt",
     "evalue": "",
     "output_type": "error",
     "traceback": [
      "\u001b[0;31m---------------------------------------------------------------------------\u001b[0m",
      "\u001b[0;31mKeyboardInterrupt\u001b[0m                         Traceback (most recent call last)",
      "Cell \u001b[0;32mIn[15], line 13\u001b[0m\n\u001b[1;32m      2\u001b[0m \u001b[38;5;28mprint\u001b[39m(\u001b[38;5;124mf\u001b[39m\u001b[38;5;124m\"\u001b[39m\u001b[38;5;130;01m\\n\u001b[39;00m\u001b[38;5;124m正在使用 NiftiSpheresMasker 提取基底核時間序列 (半徑: \u001b[39m\u001b[38;5;132;01m{\u001b[39;00msphere_radius\u001b[38;5;132;01m}\u001b[39;00m\u001b[38;5;124mmm)...\u001b[39m\u001b[38;5;124m\"\u001b[39m)\n\u001b[1;32m      4\u001b[0m masker_spheres \u001b[38;5;241m=\u001b[39m NiftiSpheresMasker(\n\u001b[1;32m      5\u001b[0m     seeds\u001b[38;5;241m=\u001b[39mbasal_ganglia_coords,\n\u001b[1;32m      6\u001b[0m     radius\u001b[38;5;241m=\u001b[39msphere_radius, \u001b[38;5;66;03m# 使用獲取到的或預設的半徑\u001b[39;00m\n\u001b[0;32m   (...)\u001b[0m\n\u001b[1;32m     10\u001b[0m     n_jobs\u001b[38;5;241m=\u001b[39m\u001b[38;5;241m4\u001b[39m\n\u001b[1;32m     11\u001b[0m )\n\u001b[0;32m---> 13\u001b[0m time_series_basal_ganglia \u001b[38;5;241m=\u001b[39m \u001b[43mmasker_spheres\u001b[49m\u001b[38;5;241;43m.\u001b[39;49m\u001b[43mfit_transform\u001b[49m\u001b[43m(\u001b[49m\u001b[43mbold_img\u001b[49m\u001b[43m)\u001b[49m\n\u001b[1;32m     14\u001b[0m \u001b[38;5;28mprint\u001b[39m(\u001b[38;5;124mf\u001b[39m\u001b[38;5;124m\"\u001b[39m\u001b[38;5;124m基底核時間序列形狀 (使用 Seitzman 座標): \u001b[39m\u001b[38;5;132;01m{\u001b[39;00mtime_series_basal_ganglia\u001b[38;5;241m.\u001b[39mshape\u001b[38;5;132;01m}\u001b[39;00m\u001b[38;5;124m\"\u001b[39m)\n",
      "File \u001b[0;32m~/miniconda3/lib/python3.12/site-packages/sklearn/utils/_set_output.py:319\u001b[0m, in \u001b[0;36m_wrap_method_output.<locals>.wrapped\u001b[0;34m(self, X, *args, **kwargs)\u001b[0m\n\u001b[1;32m    317\u001b[0m \u001b[38;5;129m@wraps\u001b[39m(f)\n\u001b[1;32m    318\u001b[0m \u001b[38;5;28;01mdef\u001b[39;00m \u001b[38;5;21mwrapped\u001b[39m(\u001b[38;5;28mself\u001b[39m, X, \u001b[38;5;241m*\u001b[39margs, \u001b[38;5;241m*\u001b[39m\u001b[38;5;241m*\u001b[39mkwargs):\n\u001b[0;32m--> 319\u001b[0m     data_to_wrap \u001b[38;5;241m=\u001b[39m \u001b[43mf\u001b[49m\u001b[43m(\u001b[49m\u001b[38;5;28;43mself\u001b[39;49m\u001b[43m,\u001b[49m\u001b[43m \u001b[49m\u001b[43mX\u001b[49m\u001b[43m,\u001b[49m\u001b[43m \u001b[49m\u001b[38;5;241;43m*\u001b[39;49m\u001b[43margs\u001b[49m\u001b[43m,\u001b[49m\u001b[43m \u001b[49m\u001b[38;5;241;43m*\u001b[39;49m\u001b[38;5;241;43m*\u001b[39;49m\u001b[43mkwargs\u001b[49m\u001b[43m)\u001b[49m\n\u001b[1;32m    320\u001b[0m     \u001b[38;5;28;01mif\u001b[39;00m \u001b[38;5;28misinstance\u001b[39m(data_to_wrap, \u001b[38;5;28mtuple\u001b[39m):\n\u001b[1;32m    321\u001b[0m         \u001b[38;5;66;03m# only wrap the first output for cross decomposition\u001b[39;00m\n\u001b[1;32m    322\u001b[0m         return_tuple \u001b[38;5;241m=\u001b[39m (\n\u001b[1;32m    323\u001b[0m             _wrap_data_with_container(method, data_to_wrap[\u001b[38;5;241m0\u001b[39m], X, \u001b[38;5;28mself\u001b[39m),\n\u001b[1;32m    324\u001b[0m             \u001b[38;5;241m*\u001b[39mdata_to_wrap[\u001b[38;5;241m1\u001b[39m:],\n\u001b[1;32m    325\u001b[0m         )\n",
      "File \u001b[0;32m~/miniconda3/lib/python3.12/site-packages/nilearn/maskers/nifti_spheres_masker.py:639\u001b[0m, in \u001b[0;36mNiftiSpheresMasker.fit_transform\u001b[0;34m(self, imgs, confounds, sample_mask)\u001b[0m\n\u001b[1;32m    608\u001b[0m \u001b[38;5;28;01mdef\u001b[39;00m \u001b[38;5;21mfit_transform\u001b[39m(\u001b[38;5;28mself\u001b[39m, imgs, confounds\u001b[38;5;241m=\u001b[39m\u001b[38;5;28;01mNone\u001b[39;00m, sample_mask\u001b[38;5;241m=\u001b[39m\u001b[38;5;28;01mNone\u001b[39;00m):\n\u001b[1;32m    609\u001b[0m \u001b[38;5;250m    \u001b[39m\u001b[38;5;124;03m\"\"\"Prepare and perform signal extraction.\u001b[39;00m\n\u001b[1;32m    610\u001b[0m \n\u001b[1;32m    611\u001b[0m \u001b[38;5;124;03m    Parameters\u001b[39;00m\n\u001b[0;32m   (...)\u001b[0m\n\u001b[1;32m    637\u001b[0m \n\u001b[1;32m    638\u001b[0m \u001b[38;5;124;03m    \"\"\"\u001b[39;00m\n\u001b[0;32m--> 639\u001b[0m     \u001b[38;5;28;01mreturn\u001b[39;00m \u001b[38;5;28;43mself\u001b[39;49m\u001b[38;5;241;43m.\u001b[39;49m\u001b[43mfit\u001b[49m\u001b[43m(\u001b[49m\u001b[43mimgs\u001b[49m\u001b[43m)\u001b[49m\u001b[38;5;241;43m.\u001b[39;49m\u001b[43mtransform\u001b[49m\u001b[43m(\u001b[49m\n\u001b[1;32m    640\u001b[0m \u001b[43m        \u001b[49m\u001b[43mimgs\u001b[49m\u001b[43m,\u001b[49m\u001b[43m \u001b[49m\u001b[43mconfounds\u001b[49m\u001b[38;5;241;43m=\u001b[39;49m\u001b[43mconfounds\u001b[49m\u001b[43m,\u001b[49m\u001b[43m \u001b[49m\u001b[43msample_mask\u001b[49m\u001b[38;5;241;43m=\u001b[39;49m\u001b[43msample_mask\u001b[49m\n\u001b[1;32m    641\u001b[0m \u001b[43m    \u001b[49m\u001b[43m)\u001b[49m\n",
      "File \u001b[0;32m~/miniconda3/lib/python3.12/site-packages/sklearn/utils/_set_output.py:319\u001b[0m, in \u001b[0;36m_wrap_method_output.<locals>.wrapped\u001b[0;34m(self, X, *args, **kwargs)\u001b[0m\n\u001b[1;32m    317\u001b[0m \u001b[38;5;129m@wraps\u001b[39m(f)\n\u001b[1;32m    318\u001b[0m \u001b[38;5;28;01mdef\u001b[39;00m \u001b[38;5;21mwrapped\u001b[39m(\u001b[38;5;28mself\u001b[39m, X, \u001b[38;5;241m*\u001b[39margs, \u001b[38;5;241m*\u001b[39m\u001b[38;5;241m*\u001b[39mkwargs):\n\u001b[0;32m--> 319\u001b[0m     data_to_wrap \u001b[38;5;241m=\u001b[39m \u001b[43mf\u001b[49m\u001b[43m(\u001b[49m\u001b[38;5;28;43mself\u001b[39;49m\u001b[43m,\u001b[49m\u001b[43m \u001b[49m\u001b[43mX\u001b[49m\u001b[43m,\u001b[49m\u001b[43m \u001b[49m\u001b[38;5;241;43m*\u001b[39;49m\u001b[43margs\u001b[49m\u001b[43m,\u001b[49m\u001b[43m \u001b[49m\u001b[38;5;241;43m*\u001b[39;49m\u001b[38;5;241;43m*\u001b[39;49m\u001b[43mkwargs\u001b[49m\u001b[43m)\u001b[49m\n\u001b[1;32m    320\u001b[0m     \u001b[38;5;28;01mif\u001b[39;00m \u001b[38;5;28misinstance\u001b[39m(data_to_wrap, \u001b[38;5;28mtuple\u001b[39m):\n\u001b[1;32m    321\u001b[0m         \u001b[38;5;66;03m# only wrap the first output for cross decomposition\u001b[39;00m\n\u001b[1;32m    322\u001b[0m         return_tuple \u001b[38;5;241m=\u001b[39m (\n\u001b[1;32m    323\u001b[0m             _wrap_data_with_container(method, data_to_wrap[\u001b[38;5;241m0\u001b[39m], X, \u001b[38;5;28mself\u001b[39m),\n\u001b[1;32m    324\u001b[0m             \u001b[38;5;241m*\u001b[39mdata_to_wrap[\u001b[38;5;241m1\u001b[39m:],\n\u001b[1;32m    325\u001b[0m         )\n",
      "File \u001b[0;32m~/miniconda3/lib/python3.12/site-packages/nilearn/maskers/base_masker.py:282\u001b[0m, in \u001b[0;36mBaseMasker.transform\u001b[0;34m(self, imgs, confounds, sample_mask)\u001b[0m\n\u001b[1;32m    279\u001b[0m \u001b[38;5;28mself\u001b[39m\u001b[38;5;241m.\u001b[39m_check_fitted()\n\u001b[1;32m    281\u001b[0m \u001b[38;5;28;01mif\u001b[39;00m confounds \u001b[38;5;129;01mis\u001b[39;00m \u001b[38;5;28;01mNone\u001b[39;00m \u001b[38;5;129;01mand\u001b[39;00m \u001b[38;5;129;01mnot\u001b[39;00m \u001b[38;5;28mself\u001b[39m\u001b[38;5;241m.\u001b[39mhigh_variance_confounds:\n\u001b[0;32m--> 282\u001b[0m     \u001b[38;5;28;01mreturn\u001b[39;00m \u001b[38;5;28;43mself\u001b[39;49m\u001b[38;5;241;43m.\u001b[39;49m\u001b[43mtransform_single_imgs\u001b[49m\u001b[43m(\u001b[49m\n\u001b[1;32m    283\u001b[0m \u001b[43m        \u001b[49m\u001b[43mimgs\u001b[49m\u001b[43m,\u001b[49m\u001b[43m \u001b[49m\u001b[43mconfounds\u001b[49m\u001b[38;5;241;43m=\u001b[39;49m\u001b[43mconfounds\u001b[49m\u001b[43m,\u001b[49m\u001b[43m \u001b[49m\u001b[43msample_mask\u001b[49m\u001b[38;5;241;43m=\u001b[39;49m\u001b[43msample_mask\u001b[49m\n\u001b[1;32m    284\u001b[0m \u001b[43m    \u001b[49m\u001b[43m)\u001b[49m\n\u001b[1;32m    286\u001b[0m \u001b[38;5;66;03m# Compute high variance confounds if requested\u001b[39;00m\n\u001b[1;32m    287\u001b[0m all_confounds \u001b[38;5;241m=\u001b[39m []\n",
      "File \u001b[0;32m~/miniconda3/lib/python3.12/site-packages/nilearn/maskers/nifti_spheres_masker.py:695\u001b[0m, in \u001b[0;36mNiftiSpheresMasker.transform_single_imgs\u001b[0;34m(self, imgs, confounds, sample_mask)\u001b[0m\n\u001b[1;32m    692\u001b[0m params \u001b[38;5;241m=\u001b[39m get_params(NiftiSpheresMasker, \u001b[38;5;28mself\u001b[39m)\n\u001b[1;32m    693\u001b[0m params[\u001b[38;5;124m\"\u001b[39m\u001b[38;5;124mclean_kwargs\u001b[39m\u001b[38;5;124m\"\u001b[39m] \u001b[38;5;241m=\u001b[39m \u001b[38;5;28mself\u001b[39m\u001b[38;5;241m.\u001b[39mclean_kwargs\n\u001b[0;32m--> 695\u001b[0m signals, _ \u001b[38;5;241m=\u001b[39m \u001b[38;5;28;43mself\u001b[39;49m\u001b[38;5;241;43m.\u001b[39;49m\u001b[43m_cache\u001b[49m\u001b[43m(\u001b[49m\n\u001b[1;32m    696\u001b[0m \u001b[43m    \u001b[49m\u001b[43m_filter_and_extract\u001b[49m\u001b[43m,\u001b[49m\u001b[43m \u001b[49m\u001b[43mignore\u001b[49m\u001b[38;5;241;43m=\u001b[39;49m\u001b[43m[\u001b[49m\u001b[38;5;124;43m\"\u001b[39;49m\u001b[38;5;124;43mverbose\u001b[39;49m\u001b[38;5;124;43m\"\u001b[39;49m\u001b[43m,\u001b[49m\u001b[43m \u001b[49m\u001b[38;5;124;43m\"\u001b[39;49m\u001b[38;5;124;43mmemory\u001b[39;49m\u001b[38;5;124;43m\"\u001b[39;49m\u001b[43m,\u001b[49m\u001b[43m \u001b[49m\u001b[38;5;124;43m\"\u001b[39;49m\u001b[38;5;124;43mmemory_level\u001b[39;49m\u001b[38;5;124;43m\"\u001b[39;49m\u001b[43m]\u001b[49m\n\u001b[1;32m    697\u001b[0m \u001b[43m\u001b[49m\u001b[43m)\u001b[49m\u001b[43m(\u001b[49m\n\u001b[1;32m    698\u001b[0m \u001b[43m    \u001b[49m\u001b[43mimgs\u001b[49m\u001b[43m,\u001b[49m\n\u001b[1;32m    699\u001b[0m \u001b[43m    \u001b[49m\u001b[43m_ExtractionFunctor\u001b[49m\u001b[43m(\u001b[49m\n\u001b[1;32m    700\u001b[0m \u001b[43m        \u001b[49m\u001b[38;5;28;43mself\u001b[39;49m\u001b[38;5;241;43m.\u001b[39;49m\u001b[43mseeds_\u001b[49m\u001b[43m,\u001b[49m\n\u001b[1;32m    701\u001b[0m \u001b[43m        \u001b[49m\u001b[38;5;28;43mself\u001b[39;49m\u001b[38;5;241;43m.\u001b[39;49m\u001b[43mradius\u001b[49m\u001b[43m,\u001b[49m\n\u001b[1;32m    702\u001b[0m \u001b[43m        \u001b[49m\u001b[38;5;28;43mself\u001b[39;49m\u001b[38;5;241;43m.\u001b[39;49m\u001b[43mmask_img\u001b[49m\u001b[43m,\u001b[49m\n\u001b[1;32m    703\u001b[0m \u001b[43m        \u001b[49m\u001b[38;5;28;43mself\u001b[39;49m\u001b[38;5;241;43m.\u001b[39;49m\u001b[43mallow_overlap\u001b[49m\u001b[43m,\u001b[49m\n\u001b[1;32m    704\u001b[0m \u001b[43m        \u001b[49m\u001b[38;5;28;43mself\u001b[39;49m\u001b[38;5;241;43m.\u001b[39;49m\u001b[43mdtype\u001b[49m\u001b[43m,\u001b[49m\n\u001b[1;32m    705\u001b[0m \u001b[43m    \u001b[49m\u001b[43m)\u001b[49m\u001b[43m,\u001b[49m\n\u001b[1;32m    706\u001b[0m \u001b[43m    \u001b[49m\u001b[38;5;66;43;03m# Pre-processing\u001b[39;49;00m\n\u001b[1;32m    707\u001b[0m \u001b[43m    \u001b[49m\u001b[43mparams\u001b[49m\u001b[43m,\u001b[49m\n\u001b[1;32m    708\u001b[0m \u001b[43m    \u001b[49m\u001b[43mconfounds\u001b[49m\u001b[38;5;241;43m=\u001b[39;49m\u001b[43mconfounds\u001b[49m\u001b[43m,\u001b[49m\n\u001b[1;32m    709\u001b[0m \u001b[43m    \u001b[49m\u001b[43msample_mask\u001b[49m\u001b[38;5;241;43m=\u001b[39;49m\u001b[43msample_mask\u001b[49m\u001b[43m,\u001b[49m\n\u001b[1;32m    710\u001b[0m \u001b[43m    \u001b[49m\u001b[43mdtype\u001b[49m\u001b[38;5;241;43m=\u001b[39;49m\u001b[38;5;28;43mself\u001b[39;49m\u001b[38;5;241;43m.\u001b[39;49m\u001b[43mdtype\u001b[49m\u001b[43m,\u001b[49m\n\u001b[1;32m    711\u001b[0m \u001b[43m    \u001b[49m\u001b[38;5;66;43;03m# Caching\u001b[39;49;00m\n\u001b[1;32m    712\u001b[0m \u001b[43m    \u001b[49m\u001b[43mmemory\u001b[49m\u001b[38;5;241;43m=\u001b[39;49m\u001b[38;5;28;43mself\u001b[39;49m\u001b[38;5;241;43m.\u001b[39;49m\u001b[43mmemory\u001b[49m\u001b[43m,\u001b[49m\n\u001b[1;32m    713\u001b[0m \u001b[43m    \u001b[49m\u001b[43mmemory_level\u001b[49m\u001b[38;5;241;43m=\u001b[39;49m\u001b[38;5;28;43mself\u001b[39;49m\u001b[38;5;241;43m.\u001b[39;49m\u001b[43mmemory_level\u001b[49m\u001b[43m,\u001b[49m\n\u001b[1;32m    714\u001b[0m \u001b[43m    \u001b[49m\u001b[38;5;66;43;03m# kwargs\u001b[39;49;00m\n\u001b[1;32m    715\u001b[0m \u001b[43m    \u001b[49m\u001b[43mverbose\u001b[49m\u001b[38;5;241;43m=\u001b[39;49m\u001b[38;5;28;43mself\u001b[39;49m\u001b[38;5;241;43m.\u001b[39;49m\u001b[43mverbose\u001b[49m\u001b[43m,\u001b[49m\n\u001b[1;32m    716\u001b[0m \u001b[43m\u001b[49m\u001b[43m)\u001b[49m\n\u001b[1;32m    717\u001b[0m \u001b[38;5;28;01mreturn\u001b[39;00m signals\n",
      "File \u001b[0;32m~/miniconda3/lib/python3.12/site-packages/joblib/memory.py:326\u001b[0m, in \u001b[0;36mNotMemorizedFunc.__call__\u001b[0;34m(self, *args, **kwargs)\u001b[0m\n\u001b[1;32m    325\u001b[0m \u001b[38;5;28;01mdef\u001b[39;00m \u001b[38;5;21m__call__\u001b[39m(\u001b[38;5;28mself\u001b[39m, \u001b[38;5;241m*\u001b[39margs, \u001b[38;5;241m*\u001b[39m\u001b[38;5;241m*\u001b[39mkwargs):\n\u001b[0;32m--> 326\u001b[0m     \u001b[38;5;28;01mreturn\u001b[39;00m \u001b[38;5;28;43mself\u001b[39;49m\u001b[38;5;241;43m.\u001b[39;49m\u001b[43mfunc\u001b[49m\u001b[43m(\u001b[49m\u001b[38;5;241;43m*\u001b[39;49m\u001b[43margs\u001b[49m\u001b[43m,\u001b[49m\u001b[43m \u001b[49m\u001b[38;5;241;43m*\u001b[39;49m\u001b[38;5;241;43m*\u001b[39;49m\u001b[43mkwargs\u001b[49m\u001b[43m)\u001b[49m\n",
      "File \u001b[0;32m~/miniconda3/lib/python3.12/site-packages/nilearn/maskers/base_masker.py:122\u001b[0m, in \u001b[0;36m_filter_and_extract\u001b[0;34m(imgs, extraction_function, parameters, memory_level, memory, verbose, confounds, sample_mask, copy, dtype)\u001b[0m\n\u001b[1;32m    114\u001b[0m     imgs \u001b[38;5;241m=\u001b[39m cache(\n\u001b[1;32m    115\u001b[0m         image\u001b[38;5;241m.\u001b[39msmooth_img,\n\u001b[1;32m    116\u001b[0m         memory,\n\u001b[1;32m    117\u001b[0m         func_memory_level\u001b[38;5;241m=\u001b[39m\u001b[38;5;241m2\u001b[39m,\n\u001b[1;32m    118\u001b[0m         memory_level\u001b[38;5;241m=\u001b[39mmemory_level,\n\u001b[1;32m    119\u001b[0m     )(imgs, parameters[\u001b[38;5;124m\"\u001b[39m\u001b[38;5;124msmoothing_fwhm\u001b[39m\u001b[38;5;124m\"\u001b[39m])\n\u001b[1;32m    121\u001b[0m logger\u001b[38;5;241m.\u001b[39mlog(\u001b[38;5;124m\"\u001b[39m\u001b[38;5;124mExtracting region signals\u001b[39m\u001b[38;5;124m\"\u001b[39m, verbose\u001b[38;5;241m=\u001b[39mverbose, stack_level\u001b[38;5;241m=\u001b[39m\u001b[38;5;241m2\u001b[39m)\n\u001b[0;32m--> 122\u001b[0m region_signals, aux \u001b[38;5;241m=\u001b[39m \u001b[43mcache\u001b[49m\u001b[43m(\u001b[49m\n\u001b[1;32m    123\u001b[0m \u001b[43m    \u001b[49m\u001b[43mextraction_function\u001b[49m\u001b[43m,\u001b[49m\n\u001b[1;32m    124\u001b[0m \u001b[43m    \u001b[49m\u001b[43mmemory\u001b[49m\u001b[43m,\u001b[49m\n\u001b[1;32m    125\u001b[0m \u001b[43m    \u001b[49m\u001b[43mfunc_memory_level\u001b[49m\u001b[38;5;241;43m=\u001b[39;49m\u001b[38;5;241;43m2\u001b[39;49m\u001b[43m,\u001b[49m\n\u001b[1;32m    126\u001b[0m \u001b[43m    \u001b[49m\u001b[43mmemory_level\u001b[49m\u001b[38;5;241;43m=\u001b[39;49m\u001b[43mmemory_level\u001b[49m\u001b[43m,\u001b[49m\n\u001b[1;32m    127\u001b[0m \u001b[43m\u001b[49m\u001b[43m)\u001b[49m\u001b[43m(\u001b[49m\u001b[43mimgs\u001b[49m\u001b[43m)\u001b[49m\n\u001b[1;32m    129\u001b[0m \u001b[38;5;66;03m# Temporal\u001b[39;00m\n\u001b[1;32m    130\u001b[0m \u001b[38;5;66;03m# --------\u001b[39;00m\n\u001b[1;32m    131\u001b[0m \u001b[38;5;66;03m# Detrending (optional)\u001b[39;00m\n\u001b[1;32m    132\u001b[0m \u001b[38;5;66;03m# Filtering\u001b[39;00m\n\u001b[1;32m    133\u001b[0m \u001b[38;5;66;03m# Confounds removing (from csv file or numpy array)\u001b[39;00m\n\u001b[1;32m    134\u001b[0m \u001b[38;5;66;03m# Normalizing\u001b[39;00m\n\u001b[1;32m    135\u001b[0m logger\u001b[38;5;241m.\u001b[39mlog(\u001b[38;5;124m\"\u001b[39m\u001b[38;5;124mCleaning extracted signals\u001b[39m\u001b[38;5;124m\"\u001b[39m, verbose\u001b[38;5;241m=\u001b[39mverbose, stack_level\u001b[38;5;241m=\u001b[39m\u001b[38;5;241m2\u001b[39m)\n",
      "File \u001b[0;32m~/miniconda3/lib/python3.12/site-packages/joblib/memory.py:326\u001b[0m, in \u001b[0;36mNotMemorizedFunc.__call__\u001b[0;34m(self, *args, **kwargs)\u001b[0m\n\u001b[1;32m    325\u001b[0m \u001b[38;5;28;01mdef\u001b[39;00m \u001b[38;5;21m__call__\u001b[39m(\u001b[38;5;28mself\u001b[39m, \u001b[38;5;241m*\u001b[39margs, \u001b[38;5;241m*\u001b[39m\u001b[38;5;241m*\u001b[39mkwargs):\n\u001b[0;32m--> 326\u001b[0m     \u001b[38;5;28;01mreturn\u001b[39;00m \u001b[38;5;28;43mself\u001b[39;49m\u001b[38;5;241;43m.\u001b[39;49m\u001b[43mfunc\u001b[49m\u001b[43m(\u001b[49m\u001b[38;5;241;43m*\u001b[39;49m\u001b[43margs\u001b[49m\u001b[43m,\u001b[49m\u001b[43m \u001b[49m\u001b[38;5;241;43m*\u001b[39;49m\u001b[38;5;241;43m*\u001b[39;49m\u001b[43mkwargs\u001b[49m\u001b[43m)\u001b[49m\n",
      "File \u001b[0;32m~/miniconda3/lib/python3.12/site-packages/nilearn/maskers/nifti_spheres_masker.py:212\u001b[0m, in \u001b[0;36m_ExtractionFunctor.__call__\u001b[0;34m(self, imgs)\u001b[0m\n\u001b[1;32m    207\u001b[0m imgs \u001b[38;5;241m=\u001b[39m check_niimg_4d(imgs, dtype\u001b[38;5;241m=\u001b[39m\u001b[38;5;28mself\u001b[39m\u001b[38;5;241m.\u001b[39mdtype)\n\u001b[1;32m    209\u001b[0m signals \u001b[38;5;241m=\u001b[39m np\u001b[38;5;241m.\u001b[39mempty(\n\u001b[1;32m    210\u001b[0m     (imgs\u001b[38;5;241m.\u001b[39mshape[\u001b[38;5;241m3\u001b[39m], n_seeds), dtype\u001b[38;5;241m=\u001b[39mimg_data_dtype(imgs)\n\u001b[1;32m    211\u001b[0m )\n\u001b[0;32m--> 212\u001b[0m \u001b[43m\u001b[49m\u001b[38;5;28;43;01mfor\u001b[39;49;00m\u001b[43m \u001b[49m\u001b[43mi\u001b[49m\u001b[43m,\u001b[49m\u001b[43m \u001b[49m\u001b[43msphere\u001b[49m\u001b[43m \u001b[49m\u001b[38;5;129;43;01min\u001b[39;49;00m\u001b[43m \u001b[49m\u001b[38;5;28;43menumerate\u001b[39;49m\u001b[43m(\u001b[49m\n\u001b[1;32m    213\u001b[0m \u001b[43m    \u001b[49m\u001b[43m_iter_signals_from_spheres\u001b[49m\u001b[43m(\u001b[49m\n\u001b[1;32m    214\u001b[0m \u001b[43m        \u001b[49m\u001b[38;5;28;43mself\u001b[39;49m\u001b[38;5;241;43m.\u001b[39;49m\u001b[43mseeds_\u001b[49m\u001b[43m,\u001b[49m\n\u001b[1;32m    215\u001b[0m \u001b[43m        \u001b[49m\u001b[43mimgs\u001b[49m\u001b[43m,\u001b[49m\n\u001b[1;32m    216\u001b[0m \u001b[43m        \u001b[49m\u001b[38;5;28;43mself\u001b[39;49m\u001b[38;5;241;43m.\u001b[39;49m\u001b[43mradius\u001b[49m\u001b[43m,\u001b[49m\n\u001b[1;32m    217\u001b[0m \u001b[43m        \u001b[49m\u001b[38;5;28;43mself\u001b[39;49m\u001b[38;5;241;43m.\u001b[39;49m\u001b[43mallow_overlap\u001b[49m\u001b[43m,\u001b[49m\n\u001b[1;32m    218\u001b[0m \u001b[43m        \u001b[49m\u001b[43mmask_img\u001b[49m\u001b[38;5;241;43m=\u001b[39;49m\u001b[38;5;28;43mself\u001b[39;49m\u001b[38;5;241;43m.\u001b[39;49m\u001b[43mmask_img\u001b[49m\u001b[43m,\u001b[49m\n\u001b[1;32m    219\u001b[0m \u001b[43m    \u001b[49m\u001b[43m)\u001b[49m\n\u001b[1;32m    220\u001b[0m \u001b[43m\u001b[49m\u001b[43m)\u001b[49m\u001b[43m:\u001b[49m\n\u001b[1;32m    221\u001b[0m \u001b[43m    \u001b[49m\u001b[43msignals\u001b[49m\u001b[43m[\u001b[49m\u001b[43m:\u001b[49m\u001b[43m,\u001b[49m\u001b[43m \u001b[49m\u001b[43mi\u001b[49m\u001b[43m]\u001b[49m\u001b[43m \u001b[49m\u001b[38;5;241;43m=\u001b[39;49m\u001b[43m \u001b[49m\u001b[43mnp\u001b[49m\u001b[38;5;241;43m.\u001b[39;49m\u001b[43mmean\u001b[49m\u001b[43m(\u001b[49m\u001b[43msphere\u001b[49m\u001b[43m,\u001b[49m\u001b[43m \u001b[49m\u001b[43maxis\u001b[49m\u001b[38;5;241;43m=\u001b[39;49m\u001b[38;5;241;43m1\u001b[39;49m\u001b[43m)\u001b[49m\n\u001b[1;32m    222\u001b[0m \u001b[38;5;28;01mreturn\u001b[39;00m signals, \u001b[38;5;28;01mNone\u001b[39;00m\n",
      "File \u001b[0;32m~/miniconda3/lib/python3.12/site-packages/nilearn/maskers/nifti_spheres_masker.py:188\u001b[0m, in \u001b[0;36m_iter_signals_from_spheres\u001b[0;34m(seeds, niimg, radius, allow_overlap, mask_img)\u001b[0m\n\u001b[1;32m    159\u001b[0m \u001b[38;5;28;01mdef\u001b[39;00m \u001b[38;5;21m_iter_signals_from_spheres\u001b[39m(\n\u001b[1;32m    160\u001b[0m     seeds, niimg, radius, allow_overlap, mask_img\u001b[38;5;241m=\u001b[39m\u001b[38;5;28;01mNone\u001b[39;00m\n\u001b[1;32m    161\u001b[0m ):\n\u001b[1;32m    162\u001b[0m \u001b[38;5;250m    \u001b[39m\u001b[38;5;124;03m\"\"\"Iterate over spheres.\u001b[39;00m\n\u001b[1;32m    163\u001b[0m \n\u001b[1;32m    164\u001b[0m \u001b[38;5;124;03m    Parameters\u001b[39;00m\n\u001b[0;32m   (...)\u001b[0m\n\u001b[1;32m    186\u001b[0m \n\u001b[1;32m    187\u001b[0m \u001b[38;5;124;03m    \"\"\"\u001b[39;00m\n\u001b[0;32m--> 188\u001b[0m     X, A \u001b[38;5;241m=\u001b[39m \u001b[43m_apply_mask_and_get_affinity\u001b[49m\u001b[43m(\u001b[49m\n\u001b[1;32m    189\u001b[0m \u001b[43m        \u001b[49m\u001b[43mseeds\u001b[49m\u001b[43m,\u001b[49m\u001b[43m \u001b[49m\u001b[43mniimg\u001b[49m\u001b[43m,\u001b[49m\u001b[43m \u001b[49m\u001b[43mradius\u001b[49m\u001b[43m,\u001b[49m\u001b[43m \u001b[49m\u001b[43mallow_overlap\u001b[49m\u001b[43m,\u001b[49m\u001b[43m \u001b[49m\u001b[43mmask_img\u001b[49m\u001b[38;5;241;43m=\u001b[39;49m\u001b[43mmask_img\u001b[49m\n\u001b[1;32m    190\u001b[0m \u001b[43m    \u001b[49m\u001b[43m)\u001b[49m\n\u001b[1;32m    191\u001b[0m     \u001b[38;5;28;01mfor\u001b[39;00m row \u001b[38;5;129;01min\u001b[39;00m A\u001b[38;5;241m.\u001b[39mrows:\n\u001b[1;32m    192\u001b[0m         \u001b[38;5;28;01myield\u001b[39;00m X[:, row]\n",
      "File \u001b[0;32m~/miniconda3/lib/python3.12/site-packages/nilearn/maskers/nifti_spheres_masker.py:100\u001b[0m, in \u001b[0;36m_apply_mask_and_get_affinity\u001b[0;34m(seeds, niimg, radius, allow_overlap, mask_img)\u001b[0m\n\u001b[1;32m     98\u001b[0m \u001b[38;5;28;01melif\u001b[39;00m niimg \u001b[38;5;129;01mis\u001b[39;00m \u001b[38;5;129;01mnot\u001b[39;00m \u001b[38;5;28;01mNone\u001b[39;00m:\n\u001b[1;32m     99\u001b[0m     affine \u001b[38;5;241m=\u001b[39m niimg\u001b[38;5;241m.\u001b[39maffine\n\u001b[0;32m--> 100\u001b[0m     \u001b[38;5;28;01mif\u001b[39;00m np\u001b[38;5;241m.\u001b[39misnan(\u001b[43mnp\u001b[49m\u001b[38;5;241;43m.\u001b[39;49m\u001b[43msum\u001b[49m\u001b[43m(\u001b[49m\u001b[43msafe_get_data\u001b[49m\u001b[43m(\u001b[49m\u001b[43mniimg\u001b[49m\u001b[43m)\u001b[49m\u001b[43m)\u001b[49m):\n\u001b[1;32m    101\u001b[0m         warnings\u001b[38;5;241m.\u001b[39mwarn(\n\u001b[1;32m    102\u001b[0m             \u001b[38;5;124m\"\u001b[39m\u001b[38;5;124mThe imgs you have fed into fit_transform() contains NaN \u001b[39m\u001b[38;5;124m\"\u001b[39m\n\u001b[1;32m    103\u001b[0m             \u001b[38;5;124m\"\u001b[39m\u001b[38;5;124mvalues which will be converted to zeroes.\u001b[39m\u001b[38;5;124m\"\u001b[39m\n\u001b[1;32m    104\u001b[0m         )\n\u001b[1;32m    105\u001b[0m         X \u001b[38;5;241m=\u001b[39m safe_get_data(niimg, \u001b[38;5;28;01mTrue\u001b[39;00m)\u001b[38;5;241m.\u001b[39mreshape([\u001b[38;5;241m-\u001b[39m\u001b[38;5;241m1\u001b[39m, niimg\u001b[38;5;241m.\u001b[39mshape[\u001b[38;5;241m3\u001b[39m]])\u001b[38;5;241m.\u001b[39mT\n",
      "File \u001b[0;32m~/miniconda3/lib/python3.12/site-packages/numpy/_core/fromnumeric.py:2389\u001b[0m, in \u001b[0;36msum\u001b[0;34m(a, axis, dtype, out, keepdims, initial, where)\u001b[0m\n\u001b[1;32m   2386\u001b[0m         \u001b[38;5;28;01mreturn\u001b[39;00m out\n\u001b[1;32m   2387\u001b[0m     \u001b[38;5;28;01mreturn\u001b[39;00m res\n\u001b[0;32m-> 2389\u001b[0m \u001b[38;5;28;01mreturn\u001b[39;00m \u001b[43m_wrapreduction\u001b[49m\u001b[43m(\u001b[49m\n\u001b[1;32m   2390\u001b[0m \u001b[43m    \u001b[49m\u001b[43ma\u001b[49m\u001b[43m,\u001b[49m\u001b[43m \u001b[49m\u001b[43mnp\u001b[49m\u001b[38;5;241;43m.\u001b[39;49m\u001b[43madd\u001b[49m\u001b[43m,\u001b[49m\u001b[43m \u001b[49m\u001b[38;5;124;43m'\u001b[39;49m\u001b[38;5;124;43msum\u001b[39;49m\u001b[38;5;124;43m'\u001b[39;49m\u001b[43m,\u001b[49m\u001b[43m \u001b[49m\u001b[43maxis\u001b[49m\u001b[43m,\u001b[49m\u001b[43m \u001b[49m\u001b[43mdtype\u001b[49m\u001b[43m,\u001b[49m\u001b[43m \u001b[49m\u001b[43mout\u001b[49m\u001b[43m,\u001b[49m\n\u001b[1;32m   2391\u001b[0m \u001b[43m    \u001b[49m\u001b[43mkeepdims\u001b[49m\u001b[38;5;241;43m=\u001b[39;49m\u001b[43mkeepdims\u001b[49m\u001b[43m,\u001b[49m\u001b[43m \u001b[49m\u001b[43minitial\u001b[49m\u001b[38;5;241;43m=\u001b[39;49m\u001b[43minitial\u001b[49m\u001b[43m,\u001b[49m\u001b[43m \u001b[49m\u001b[43mwhere\u001b[49m\u001b[38;5;241;43m=\u001b[39;49m\u001b[43mwhere\u001b[49m\n\u001b[1;32m   2392\u001b[0m \u001b[43m\u001b[49m\u001b[43m)\u001b[49m\n",
      "File \u001b[0;32m~/miniconda3/lib/python3.12/site-packages/numpy/_core/fromnumeric.py:84\u001b[0m, in \u001b[0;36m_wrapreduction\u001b[0;34m(obj, ufunc, method, axis, dtype, out, **kwargs)\u001b[0m\n\u001b[1;32m     82\u001b[0m             \u001b[38;5;28;01mreturn\u001b[39;00m reduction(axis\u001b[38;5;241m=\u001b[39maxis, dtype\u001b[38;5;241m=\u001b[39mdtype, out\u001b[38;5;241m=\u001b[39mout, \u001b[38;5;241m*\u001b[39m\u001b[38;5;241m*\u001b[39mpasskwargs)\n\u001b[1;32m     83\u001b[0m         \u001b[38;5;28;01melse\u001b[39;00m:\n\u001b[0;32m---> 84\u001b[0m             \u001b[38;5;28;01mreturn\u001b[39;00m \u001b[43mreduction\u001b[49m\u001b[43m(\u001b[49m\u001b[43maxis\u001b[49m\u001b[38;5;241;43m=\u001b[39;49m\u001b[43maxis\u001b[49m\u001b[43m,\u001b[49m\u001b[43m \u001b[49m\u001b[43mout\u001b[49m\u001b[38;5;241;43m=\u001b[39;49m\u001b[43mout\u001b[49m\u001b[43m,\u001b[49m\u001b[43m \u001b[49m\u001b[38;5;241;43m*\u001b[39;49m\u001b[38;5;241;43m*\u001b[39;49m\u001b[43mpasskwargs\u001b[49m\u001b[43m)\u001b[49m\n\u001b[1;32m     86\u001b[0m \u001b[38;5;28;01mreturn\u001b[39;00m ufunc\u001b[38;5;241m.\u001b[39mreduce(obj, axis, dtype, out, \u001b[38;5;241m*\u001b[39m\u001b[38;5;241m*\u001b[39mpasskwargs)\n",
      "File \u001b[0;32m~/miniconda3/lib/python3.12/site-packages/numpy/_core/_methods.py:52\u001b[0m, in \u001b[0;36m_sum\u001b[0;34m(a, axis, dtype, out, keepdims, initial, where)\u001b[0m\n\u001b[1;32m     50\u001b[0m \u001b[38;5;28;01mdef\u001b[39;00m \u001b[38;5;21m_sum\u001b[39m(a, axis\u001b[38;5;241m=\u001b[39m\u001b[38;5;28;01mNone\u001b[39;00m, dtype\u001b[38;5;241m=\u001b[39m\u001b[38;5;28;01mNone\u001b[39;00m, out\u001b[38;5;241m=\u001b[39m\u001b[38;5;28;01mNone\u001b[39;00m, keepdims\u001b[38;5;241m=\u001b[39m\u001b[38;5;28;01mFalse\u001b[39;00m,\n\u001b[1;32m     51\u001b[0m          initial\u001b[38;5;241m=\u001b[39m_NoValue, where\u001b[38;5;241m=\u001b[39m\u001b[38;5;28;01mTrue\u001b[39;00m):\n\u001b[0;32m---> 52\u001b[0m     \u001b[38;5;28;01mreturn\u001b[39;00m \u001b[43mumr_sum\u001b[49m\u001b[43m(\u001b[49m\u001b[43ma\u001b[49m\u001b[43m,\u001b[49m\u001b[43m \u001b[49m\u001b[43maxis\u001b[49m\u001b[43m,\u001b[49m\u001b[43m \u001b[49m\u001b[43mdtype\u001b[49m\u001b[43m,\u001b[49m\u001b[43m \u001b[49m\u001b[43mout\u001b[49m\u001b[43m,\u001b[49m\u001b[43m \u001b[49m\u001b[43mkeepdims\u001b[49m\u001b[43m,\u001b[49m\u001b[43m \u001b[49m\u001b[43minitial\u001b[49m\u001b[43m,\u001b[49m\u001b[43m \u001b[49m\u001b[43mwhere\u001b[49m\u001b[43m)\u001b[49m\n",
      "File \u001b[0;32m~/miniconda3/lib/python3.12/site-packages/numpy/_core/memmap.py:330\u001b[0m, in \u001b[0;36mmemmap.__array_wrap__\u001b[0;34m(self, arr, context, return_scalar)\u001b[0m\n\u001b[1;32m    327\u001b[0m     \u001b[38;5;28;01mif\u001b[39;00m \u001b[38;5;28mself\u001b[39m\u001b[38;5;241m.\u001b[39mbase \u001b[38;5;129;01mis\u001b[39;00m \u001b[38;5;129;01mnot\u001b[39;00m \u001b[38;5;28;01mNone\u001b[39;00m \u001b[38;5;129;01mand\u001b[39;00m \u001b[38;5;28mhasattr\u001b[39m(\u001b[38;5;28mself\u001b[39m\u001b[38;5;241m.\u001b[39mbase, \u001b[38;5;124m'\u001b[39m\u001b[38;5;124mflush\u001b[39m\u001b[38;5;124m'\u001b[39m):\n\u001b[1;32m    328\u001b[0m         \u001b[38;5;28mself\u001b[39m\u001b[38;5;241m.\u001b[39mbase\u001b[38;5;241m.\u001b[39mflush()\n\u001b[0;32m--> 330\u001b[0m \u001b[38;5;28;01mdef\u001b[39;00m \u001b[38;5;21m__array_wrap__\u001b[39m(\u001b[38;5;28mself\u001b[39m, arr, context\u001b[38;5;241m=\u001b[39m\u001b[38;5;28;01mNone\u001b[39;00m, return_scalar\u001b[38;5;241m=\u001b[39m\u001b[38;5;28;01mFalse\u001b[39;00m):\n\u001b[1;32m    331\u001b[0m     arr \u001b[38;5;241m=\u001b[39m \u001b[38;5;28msuper\u001b[39m()\u001b[38;5;241m.\u001b[39m__array_wrap__(arr, context)\n\u001b[1;32m    333\u001b[0m     \u001b[38;5;66;03m# Return a memmap if a memmap was given as the output of the\u001b[39;00m\n\u001b[1;32m    334\u001b[0m     \u001b[38;5;66;03m# ufunc. Leave the arr class unchanged if self is not a memmap\u001b[39;00m\n\u001b[1;32m    335\u001b[0m     \u001b[38;5;66;03m# to keep original memmap subclasses behavior\u001b[39;00m\n",
      "\u001b[0;31mKeyboardInterrupt\u001b[0m: "
     ]
    }
   ],
   "source": [
    "sphere_radius = coords_seitzman['radius'] if 'radius' in coords_seitzman else 6.0\n",
    "print(f\"\\n正在使用 NiftiSpheresMasker 提取基底核時間序列 (半徑: {sphere_radius}mm)...\")\n",
    "\n",
    "masker_spheres = NiftiSpheresMasker(\n",
    "    seeds=basal_ganglia_coords,\n",
    "    radius=sphere_radius, # 使用獲取到的或預設的半徑\n",
    "    standardize=True,\n",
    "    detrend=True,\n",
    "    low_pass=0.1, high_pass=0.01, t_r=t_r,\n",
    "    n_jobs=4\n",
    ")\n",
    "\n",
    "time_series_basal_ganglia = masker_spheres.fit_transform(bold_img)\n",
    "print(f\"基底核時間序列形狀 (使用 Seitzman 座標): {time_series_basal_ganglia.shape}\")\n"
   ]
  },
  {
   "cell_type": "code",
   "execution_count": null,
   "id": "33428ead",
   "metadata": {},
   "outputs": [],
   "source": [
    "# time_series_specific_dmn 應該是之前提取的DMN時間序列變量\n",
    "combined_labels = specific_dmn_labels_str + basal_ganglia_node_labels\n",
    "combined_time_series = np.hstack((time_series_specific_dmn, time_series_basal_ganglia))\n",
    "correlation_measure_combined = ConnectivityMeasure(kind='correlation')\n",
    "combined_correlation_matrix = correlation_measure_combined.fit_transform([combined_time_series])[0]\n",
    "plt.figure(figsize=(10, 9))\n",
    "plotting.plot_matrix(combined_correlation_matrix, labels=combined_labels, colorbar=True, title=f'DMN and Basal Ganglia Functional Connectivity')\n",
    "plt.show()"
   ]
  }
 ],
 "metadata": {
  "kernelspec": {
   "display_name": "base",
   "language": "python",
   "name": "python3"
  },
  "language_info": {
   "codemirror_mode": {
    "name": "ipython",
    "version": 3
   },
   "file_extension": ".py",
   "mimetype": "text/x-python",
   "name": "python",
   "nbconvert_exporter": "python",
   "pygments_lexer": "ipython3",
   "version": "3.12.2"
  }
 },
 "nbformat": 4,
 "nbformat_minor": 5
}
